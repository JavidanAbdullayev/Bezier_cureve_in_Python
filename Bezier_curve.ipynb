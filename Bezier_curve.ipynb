{
  "nbformat": 4,
  "nbformat_minor": 0,
  "metadata": {
    "colab": {
      "name": "Bezier_curve.ipynb",
      "provenance": [],
      "collapsed_sections": []
    },
    "kernelspec": {
      "name": "python3",
      "display_name": "Python 3"
    },
    "language_info": {
      "name": "python"
    }
  },
  "cells": [
    {
      "cell_type": "code",
      "metadata": {
        "colab": {
          "base_uri": "https://localhost:8080/",
          "height": 300
        },
        "id": "llK8KD9emHdi",
        "outputId": "9619b09b-4b8b-4e96-c862-45ac1cdc38ce"
      },
      "source": [
        "# Student - Javidan Abdullayev\n",
        "\n",
        "# Code to create Bezier Curve\n",
        "\n",
        "# matplotlib library to plot lines and curves\n",
        "import matplotlib.pyplot as plt\n",
        "\n",
        "# Point object has two coordinate x and y\n",
        "class Point:\n",
        "\n",
        "    def __init__(self, x, y):\n",
        "        self.x = x\n",
        "        self.y = y\n",
        "\t\n",
        "# define points, you can add more point if you want or remove some\n",
        "P0 = Point(2, 2)\n",
        "P1 = Point(0, 1)\n",
        "P2 = Point(3, -1)\n",
        "P3 = Point(4, 1)\n",
        "# If you create new Point object please don't forget putting it into 'list_of_points' variable\n",
        "\n",
        "\n",
        "# I put all of my points into a list which is called 'list_of_points'\n",
        "list_of_points = [P0, P1, P2, P3]\n",
        "points = list_of_points   # I created second pointer to list_of_points variable because I will need it later\n",
        "\n",
        "# This function is used to plot control polygon of bezier curve\n",
        "def plot_control_polygon(points):\n",
        "    step = 0.1\n",
        "    for i in range(len(points) - 1):\n",
        "        x_list = []\n",
        "        y_list = []\n",
        "        t = 0\n",
        "        while t <= 1:\n",
        "            x = points[i].x + t * (points[i + 1].x - points[i].x)\n",
        "            y = points[i].y + t * (points[i + 1].y - points[i].y)\n",
        "            x_list.append(x)\n",
        "            y_list.append(y)\n",
        "            t += step\n",
        "        plt.plot(x_list, y_list)\n",
        "\n",
        "# This function is used to plot the bezier curve itself\n",
        "# I used De Casteljau's Algorithm to create bezier curve\n",
        "def plot_curve(points):\n",
        "    # plot control polygon of bezier curve\n",
        "    plot_control_polygon(points)\n",
        "    # from here I start to code bezier curve\n",
        "    t = 0\n",
        "    step = 0.03\n",
        "    x_list = []\n",
        "    y_list = []\n",
        "    list_ = []\n",
        "    while t <= 1:\n",
        "        points = list_of_points\n",
        "        for i in range(len(points) - 1):\n",
        "            j = len(points) - 1\n",
        "            for k in range(j):\n",
        "                x = (1 - t) * points[k].x + t * points[k + 1].x\n",
        "                y = (1 - t) * points[k].y + t * points[k + 1].y\n",
        "                list_.append(Point(x, y))\n",
        "\n",
        "            points = list_\n",
        "            list_ = []\n",
        "\n",
        "        x_list.append(points[0].x)\n",
        "        y_list.append(points[0].y)\n",
        "\n",
        "        t += step\n",
        "    plt.scatter(x_list, y_list)\n",
        "    first_x, first_y = x_list[0], y_list[0]\n",
        "    last_x, last_y = x_list[-1], y_list[-1]\n",
        "    print('first_x = ', first_x, '  first_y = ',first_y);\n",
        "    print('last_x = ', last_x, '  last_y = ',last_y);\n",
        "    plt.show()\n",
        "\n",
        "plot_curve(points)"
      ],
      "execution_count": 4,
      "outputs": [
        {
          "output_type": "stream",
          "text": [
            "first_x =  2   first_y =  2\n",
            "last_x =  3.9694070000000017   last_y =  0.9411950000000038\n"
          ],
          "name": "stdout"
        },
        {
          "output_type": "display_data",
          "data": {
            "image/png": "[encoded data removed]",
            "text/plain": [
              "<Figure size 432x288 with 1 Axes>"
            ]
          },
          "metadata": {
            "tags": [],
            "needs_background": "light"
          }
        }
      ]
    },
    {
      "cell_type": "code",
      "metadata": {
        "id": "sC7Ec6v0m0AH"
      },
      "source": [
        ""
      ],
      "execution_count": null,
      "outputs": []
    }
  ]
}